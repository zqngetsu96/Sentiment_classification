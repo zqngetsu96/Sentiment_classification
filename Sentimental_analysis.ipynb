{
  "nbformat": 4,
  "nbformat_minor": 0,
  "metadata": {
    "colab": {
      "name": "Sentimental analysis",
      "provenance": []
    },
    "kernelspec": {
      "name": "python3",
      "display_name": "Python 3"
    },
    "accelerator": "GPU"
  },
  "cells": [
    {
      "cell_type": "code",
      "metadata": {
        "id": "dcvsOjQPvqGZ",
        "colab_type": "code",
        "colab": {}
      },
      "source": [
        "import re\n",
        "import pandas as pd \n",
        "import numpy as np \n",
        "import matplotlib.pyplot as plt \n",
        "import seaborn as sns\n",
        "import string\n",
        "import nltk\n",
        "import warnings \n",
        "warnings.filterwarnings(\"ignore\", category=DeprecationWarning)\n",
        "\n",
        "%matplotlib inline"
      ],
      "execution_count": 0,
      "outputs": []
    },
    {
      "cell_type": "code",
      "metadata": {
        "id": "69b_XNIdqf7U",
        "colab_type": "code",
        "colab": {
          "base_uri": "https://localhost:8080/",
          "height": 391
        },
        "outputId": "de0f9af7-437f-459c-f95f-7be5e6ec516d"
      },
      "source": [
        "!wget https://datahack-prod.s3.amazonaws.com/train_file/train_2kmZucJ.csv\n",
        "!wget https://datahack-prod.s3.amazonaws.com/test_file/test_oJQbWVk.csv"
      ],
      "execution_count": 2,
      "outputs": [
        {
          "output_type": "stream",
          "text": [
            "--2019-10-19 21:37:12--  https://datahack-prod.s3.amazonaws.com/train_file/train_2kmZucJ.csv\n",
            "Resolving datahack-prod.s3.amazonaws.com (datahack-prod.s3.amazonaws.com)... 52.219.62.56\n",
            "Connecting to datahack-prod.s3.amazonaws.com (datahack-prod.s3.amazonaws.com)|52.219.62.56|:443... connected.\n",
            "HTTP request sent, awaiting response... 200 OK\n",
            "Length: 1100229 (1.0M) [application/vnd.ms-excel]\n",
            "Saving to: ‘train_2kmZucJ.csv’\n",
            "\n",
            "train_2kmZucJ.csv   100%[===================>]   1.05M  2.01MB/s    in 0.5s    \n",
            "\n",
            "2019-10-19 21:37:13 (2.01 MB/s) - ‘train_2kmZucJ.csv’ saved [1100229/1100229]\n",
            "\n",
            "--2019-10-19 21:37:15--  https://datahack-prod.s3.amazonaws.com/test_file/test_oJQbWVk.csv\n",
            "Resolving datahack-prod.s3.amazonaws.com (datahack-prod.s3.amazonaws.com)... 52.219.62.56\n",
            "Connecting to datahack-prod.s3.amazonaws.com (datahack-prod.s3.amazonaws.com)|52.219.62.56|:443... connected.\n",
            "HTTP request sent, awaiting response... 200 OK\n",
            "Length: 263010 (257K) [application/vnd.ms-excel]\n",
            "Saving to: ‘test_oJQbWVk.csv’\n",
            "\n",
            "test_oJQbWVk.csv    100%[===================>] 256.85K   824KB/s    in 0.3s    \n",
            "\n",
            "2019-10-19 21:37:15 (824 KB/s) - ‘test_oJQbWVk.csv’ saved [263010/263010]\n",
            "\n"
          ],
          "name": "stdout"
        }
      ]
    },
    {
      "cell_type": "code",
      "metadata": {
        "id": "qn7KSGqbqk8s",
        "colab_type": "code",
        "colab": {}
      },
      "source": [
        "train  = pd.read_csv('/content/train_2kmZucJ.csv')\n",
        "test = pd.read_csv('/content/test_oJQbWVk.csv')"
      ],
      "execution_count": 0,
      "outputs": []
    },
    {
      "cell_type": "code",
      "metadata": {
        "id": "G4dFpmQOqlZr",
        "colab_type": "code",
        "colab": {}
      },
      "source": [
        "def remove_pattern(input_txt, pattern):\n",
        "    r = re.findall(pattern, input_txt)\n",
        "    for i in r:\n",
        "        input_txt = re.sub(i, '', input_txt)\n",
        "        \n",
        "    return input_txt "
      ],
      "execution_count": 0,
      "outputs": []
    },
    {
      "cell_type": "code",
      "metadata": {
        "id": "E9ouC75HsGYf",
        "colab_type": "code",
        "colab": {}
      },
      "source": [
        "#for time saving preprocessing as well as having more words to (probably) better fit our tokenizer\n",
        "combi = train.append(test, ignore_index=True, sort=False)"
      ],
      "execution_count": 0,
      "outputs": []
    },
    {
      "cell_type": "code",
      "metadata": {
        "id": "hxdgjBnQsai9",
        "colab_type": "code",
        "colab": {
          "base_uri": "https://localhost:8080/",
          "height": 51
        },
        "outputId": "e67cb693-1800-4d45-ebe2-7e7001021d0e"
      },
      "source": [
        "print(test.shape)\n",
        "print(train.shape)"
      ],
      "execution_count": 8,
      "outputs": [
        {
          "output_type": "stream",
          "text": [
            "(1953, 2)\n",
            "(7920, 3)\n"
          ],
          "name": "stdout"
        }
      ]
    },
    {
      "cell_type": "code",
      "metadata": {
        "id": "iaEF_jISsO03",
        "colab_type": "code",
        "colab": {
          "base_uri": "https://localhost:8080/",
          "height": 34
        },
        "outputId": "aee0b7b6-5e54-4ee0-8077-f6e17f0cf836"
      },
      "source": [
        "print(combi.shape)"
      ],
      "execution_count": 9,
      "outputs": [
        {
          "output_type": "stream",
          "text": [
            "(9873, 3)\n"
          ],
          "name": "stdout"
        }
      ]
    },
    {
      "cell_type": "code",
      "metadata": {
        "id": "-AeCd2vRt4_L",
        "colab_type": "code",
        "colab": {
          "base_uri": "https://localhost:8080/",
          "height": 204
        },
        "outputId": "06900db8-b1a9-4530-859c-89b0116d3976"
      },
      "source": [
        "train.head()"
      ],
      "execution_count": 10,
      "outputs": [
        {
          "output_type": "execute_result",
          "data": {
            "text/html": [
              "<div>\n",
              "<style scoped>\n",
              "    .dataframe tbody tr th:only-of-type {\n",
              "        vertical-align: middle;\n",
              "    }\n",
              "\n",
              "    .dataframe tbody tr th {\n",
              "        vertical-align: top;\n",
              "    }\n",
              "\n",
              "    .dataframe thead th {\n",
              "        text-align: right;\n",
              "    }\n",
              "</style>\n",
              "<table border=\"1\" class=\"dataframe\">\n",
              "  <thead>\n",
              "    <tr style=\"text-align: right;\">\n",
              "      <th></th>\n",
              "      <th>id</th>\n",
              "      <th>label</th>\n",
              "      <th>tweet</th>\n",
              "    </tr>\n",
              "  </thead>\n",
              "  <tbody>\n",
              "    <tr>\n",
              "      <th>0</th>\n",
              "      <td>1</td>\n",
              "      <td>0</td>\n",
              "      <td>#fingerprint #Pregnancy Test https://goo.gl/h1...</td>\n",
              "    </tr>\n",
              "    <tr>\n",
              "      <th>1</th>\n",
              "      <td>2</td>\n",
              "      <td>0</td>\n",
              "      <td>Finally a transparant silicon case ^^ Thanks t...</td>\n",
              "    </tr>\n",
              "    <tr>\n",
              "      <th>2</th>\n",
              "      <td>3</td>\n",
              "      <td>0</td>\n",
              "      <td>We love this! Would you go? #talk #makememorie...</td>\n",
              "    </tr>\n",
              "    <tr>\n",
              "      <th>3</th>\n",
              "      <td>4</td>\n",
              "      <td>0</td>\n",
              "      <td>I'm wired I know I'm George I was made that wa...</td>\n",
              "    </tr>\n",
              "    <tr>\n",
              "      <th>4</th>\n",
              "      <td>5</td>\n",
              "      <td>1</td>\n",
              "      <td>What amazing service! Apple won't even talk to...</td>\n",
              "    </tr>\n",
              "  </tbody>\n",
              "</table>\n",
              "</div>"
            ],
            "text/plain": [
              "   id  label                                              tweet\n",
              "0   1      0  #fingerprint #Pregnancy Test https://goo.gl/h1...\n",
              "1   2      0  Finally a transparant silicon case ^^ Thanks t...\n",
              "2   3      0  We love this! Would you go? #talk #makememorie...\n",
              "3   4      0  I'm wired I know I'm George I was made that wa...\n",
              "4   5      1  What amazing service! Apple won't even talk to..."
            ]
          },
          "metadata": {
            "tags": []
          },
          "execution_count": 10
        }
      ]
    },
    {
      "cell_type": "code",
      "metadata": {
        "id": "hzlukYGwsus5",
        "colab_type": "code",
        "colab": {}
      },
      "source": [
        "# remove twitter handles (@user)\n",
        "combi['tidy_tweet'] = np.vectorize(remove_pattern)(combi['tweet'], \"@[\\w]*\")\n",
        "# remove special characters, numbers, punctuations\n",
        "combi['tidy_tweet'] = combi['tidy_tweet'].str.replace(\"[^a-zA-Z#]\", \" \")"
      ],
      "execution_count": 0,
      "outputs": []
    },
    {
      "cell_type": "code",
      "metadata": {
        "id": "9-NDT3dpuD8k",
        "colab_type": "code",
        "colab": {}
      },
      "source": [
        "# remove short words\n",
        "combi['tidy_tweet'] = combi['tidy_tweet'].apply(lambda x: ' '.join([w for w in x.split() if len(w)>3]))"
      ],
      "execution_count": 0,
      "outputs": []
    },
    {
      "cell_type": "code",
      "metadata": {
        "id": "BvIc5kv0uG6u",
        "colab_type": "code",
        "colab": {
          "base_uri": "https://localhost:8080/",
          "height": 204
        },
        "outputId": "470e2f4b-effc-405a-8a10-80ea68db2552"
      },
      "source": [
        "combi.head()"
      ],
      "execution_count": 13,
      "outputs": [
        {
          "output_type": "execute_result",
          "data": {
            "text/html": [
              "<div>\n",
              "<style scoped>\n",
              "    .dataframe tbody tr th:only-of-type {\n",
              "        vertical-align: middle;\n",
              "    }\n",
              "\n",
              "    .dataframe tbody tr th {\n",
              "        vertical-align: top;\n",
              "    }\n",
              "\n",
              "    .dataframe thead th {\n",
              "        text-align: right;\n",
              "    }\n",
              "</style>\n",
              "<table border=\"1\" class=\"dataframe\">\n",
              "  <thead>\n",
              "    <tr style=\"text-align: right;\">\n",
              "      <th></th>\n",
              "      <th>id</th>\n",
              "      <th>label</th>\n",
              "      <th>tweet</th>\n",
              "      <th>tidy_tweet</th>\n",
              "    </tr>\n",
              "  </thead>\n",
              "  <tbody>\n",
              "    <tr>\n",
              "      <th>0</th>\n",
              "      <td>1</td>\n",
              "      <td>0.0</td>\n",
              "      <td>#fingerprint #Pregnancy Test https://goo.gl/h1...</td>\n",
              "      <td>#fingerprint #Pregnancy Test https MfQV #andro...</td>\n",
              "    </tr>\n",
              "    <tr>\n",
              "      <th>1</th>\n",
              "      <td>2</td>\n",
              "      <td>0.0</td>\n",
              "      <td>Finally a transparant silicon case ^^ Thanks t...</td>\n",
              "      <td>Finally transparant silicon case Thanks uncle ...</td>\n",
              "    </tr>\n",
              "    <tr>\n",
              "      <th>2</th>\n",
              "      <td>3</td>\n",
              "      <td>0.0</td>\n",
              "      <td>We love this! Would you go? #talk #makememorie...</td>\n",
              "      <td>love this Would #talk #makememories #unplug #r...</td>\n",
              "    </tr>\n",
              "    <tr>\n",
              "      <th>3</th>\n",
              "      <td>4</td>\n",
              "      <td>0.0</td>\n",
              "      <td>I'm wired I know I'm George I was made that wa...</td>\n",
              "      <td>wired know George made that #iphone #cute #dav...</td>\n",
              "    </tr>\n",
              "    <tr>\n",
              "      <th>4</th>\n",
              "      <td>5</td>\n",
              "      <td>1.0</td>\n",
              "      <td>What amazing service! Apple won't even talk to...</td>\n",
              "      <td>What amazing service Apple even talk about que...</td>\n",
              "    </tr>\n",
              "  </tbody>\n",
              "</table>\n",
              "</div>"
            ],
            "text/plain": [
              "   id  ...                                         tidy_tweet\n",
              "0   1  ...  #fingerprint #Pregnancy Test https MfQV #andro...\n",
              "1   2  ...  Finally transparant silicon case Thanks uncle ...\n",
              "2   3  ...  love this Would #talk #makememories #unplug #r...\n",
              "3   4  ...  wired know George made that #iphone #cute #dav...\n",
              "4   5  ...  What amazing service Apple even talk about que...\n",
              "\n",
              "[5 rows x 4 columns]"
            ]
          },
          "metadata": {
            "tags": []
          },
          "execution_count": 13
        }
      ]
    },
    {
      "cell_type": "code",
      "metadata": {
        "id": "m-VywTu0uJLh",
        "colab_type": "code",
        "colab": {
          "base_uri": "https://localhost:8080/",
          "height": 119
        },
        "outputId": "2a097426-4885-4071-e238-23cec5797c08"
      },
      "source": [
        "tokenized_tweet = combi['tidy_tweet'].apply(lambda x: x.split())\n",
        "tokenized_tweet.head()"
      ],
      "execution_count": 14,
      "outputs": [
        {
          "output_type": "execute_result",
          "data": {
            "text/plain": [
              "0    [#fingerprint, #Pregnancy, Test, https, MfQV, ...\n",
              "1    [Finally, transparant, silicon, case, Thanks, ...\n",
              "2    [love, this, Would, #talk, #makememories, #unp...\n",
              "3    [wired, know, George, made, that, #iphone, #cu...\n",
              "4    [What, amazing, service, Apple, even, talk, ab...\n",
              "Name: tidy_tweet, dtype: object"
            ]
          },
          "metadata": {
            "tags": []
          },
          "execution_count": 14
        }
      ]
    },
    {
      "cell_type": "code",
      "metadata": {
        "id": "qeF85L4luNaG",
        "colab_type": "code",
        "colab": {
          "base_uri": "https://localhost:8080/",
          "height": 119
        },
        "outputId": "e4889e43-23d8-495c-dafd-0cdd59ca3bde"
      },
      "source": [
        "#Stem words: a.k.a remove suffixes,ending letters\n",
        "from nltk.stem.porter import *\n",
        "stemmer = PorterStemmer()\n",
        "\n",
        "tokenized_tweet = tokenized_tweet.apply(lambda x: [stemmer.stem(i) for i in x]) # stemming\n",
        "tokenized_tweet.head()"
      ],
      "execution_count": 15,
      "outputs": [
        {
          "output_type": "execute_result",
          "data": {
            "text/plain": [
              "0    [#fingerprint, #pregnanc, test, http, mfqv, #a...\n",
              "1    [final, transpar, silicon, case, thank, uncl, ...\n",
              "2    [love, thi, would, #talk, #makememori, #unplug...\n",
              "3    [wire, know, georg, made, that, #iphon, #cute,...\n",
              "4    [what, amaz, servic, appl, even, talk, about, ...\n",
              "Name: tidy_tweet, dtype: object"
            ]
          },
          "metadata": {
            "tags": []
          },
          "execution_count": 15
        }
      ]
    },
    {
      "cell_type": "code",
      "metadata": {
        "id": "zgXrF4-Tui3V",
        "colab_type": "code",
        "colab": {}
      },
      "source": [
        "for i in range(len(tokenized_tweet)):\n",
        "    tokenized_tweet[i] = ' '.join(tokenized_tweet[i])\n",
        "\n",
        "combi['tidy_tweet'] = tokenized_tweet"
      ],
      "execution_count": 0,
      "outputs": []
    },
    {
      "cell_type": "code",
      "metadata": {
        "id": "X38fLojlw0j9",
        "colab_type": "code",
        "colab": {
          "base_uri": "https://localhost:8080/",
          "height": 34
        },
        "outputId": "6fe83240-0a34-4950-980e-cb3165b80a57"
      },
      "source": [
        "from keras.preprocessing.text import Tokenizer\n",
        "\n",
        "# The maximum number of words to be used. (most frequent)\n",
        "MAX_NB_WORDS = 1000\n",
        "# Max number of words in each tweet\n",
        "MAX_SEQUENCE_LENGTH = 15\n",
        "# This is fixed.\n",
        "EMBEDDING_DIM = 50\n",
        "tokenizer = Tokenizer(num_words=MAX_NB_WORDS, filters='!\"#$%&()*+,-./:;<=>?@[\\]^_`{|}~', lower=True)\n",
        "tokenizer.fit_on_texts(combi['tidy_tweet'].values)\n",
        "word_index = tokenizer.word_index\n",
        "print('Found %s unique tokens.' % len(word_index))"
      ],
      "execution_count": 178,
      "outputs": [
        {
          "output_type": "stream",
          "text": [
            "Found 20449 unique tokens.\n"
          ],
          "name": "stdout"
        }
      ]
    },
    {
      "cell_type": "code",
      "metadata": {
        "id": "EUnr6a_jxU6h",
        "colab_type": "code",
        "colab": {}
      },
      "source": [
        "from keras.preprocessing.sequence import pad_sequences\n",
        "combi_X = tokenizer.texts_to_sequences(combi['tidy_tweet'].values)\n",
        "combi_X = pad_sequences(combi_X, maxlen=MAX_SEQUENCE_LENGTH)"
      ],
      "execution_count": 0,
      "outputs": []
    },
    {
      "cell_type": "code",
      "metadata": {
        "id": "Obti946i5PG6",
        "colab_type": "code",
        "colab": {}
      },
      "source": [
        "train = combi[:7920]\n",
        "test = combi[7920:]"
      ],
      "execution_count": 0,
      "outputs": []
    },
    {
      "cell_type": "code",
      "metadata": {
        "id": "Ph1ctYPj5lsM",
        "colab_type": "code",
        "colab": {}
      },
      "source": [
        "X_train = combi_X[:7920]\n",
        "Y = train['label'].values\n",
        "X_test = combi_X[7920:]"
      ],
      "execution_count": 0,
      "outputs": []
    },
    {
      "cell_type": "code",
      "metadata": {
        "id": "q5nomk3p-_Xp",
        "colab_type": "code",
        "colab": {
          "base_uri": "https://localhost:8080/",
          "height": 34
        },
        "outputId": "f5e44686-22d1-4ff5-c3c9-42d76ec73c17"
      },
      "source": [
        "print(len(combi_X))"
      ],
      "execution_count": 182,
      "outputs": [
        {
          "output_type": "stream",
          "text": [
            "9873\n"
          ],
          "name": "stdout"
        }
      ]
    },
    {
      "cell_type": "code",
      "metadata": {
        "id": "o38uijxH-wCK",
        "colab_type": "code",
        "colab": {
          "base_uri": "https://localhost:8080/",
          "height": 34
        },
        "outputId": "1221416c-4e3e-4c4a-dc2f-cba00155af54"
      },
      "source": [
        "print('Shape of data tensor:', X_test.shape)"
      ],
      "execution_count": 183,
      "outputs": [
        {
          "output_type": "stream",
          "text": [
            "Shape of data tensor: (1953, 15)\n"
          ],
          "name": "stdout"
        }
      ]
    },
    {
      "cell_type": "code",
      "metadata": {
        "id": "3zaiY3KXztbT",
        "colab_type": "code",
        "colab": {
          "base_uri": "https://localhost:8080/",
          "height": 34
        },
        "outputId": "1b34d3f3-144f-4ffe-952d-21ede5929d3e"
      },
      "source": [
        "print('Shape of data tensor:', X_train.shape)"
      ],
      "execution_count": 184,
      "outputs": [
        {
          "output_type": "stream",
          "text": [
            "Shape of data tensor: (7920, 15)\n"
          ],
          "name": "stdout"
        }
      ]
    },
    {
      "cell_type": "code",
      "metadata": {
        "id": "FDjfcguKz3Ru",
        "colab_type": "code",
        "colab": {
          "base_uri": "https://localhost:8080/",
          "height": 102
        },
        "outputId": "12ac2c67-ff50-40f5-9c20-d79e51bdf80b"
      },
      "source": [
        "print(X_train[0:5])"
      ],
      "execution_count": 185,
      "outputs": [
        {
          "output_type": "stream",
          "text": [
            "[[  0   0   0   0   0   1  21  34  30  26 109  81 104  96   2]\n",
            " [  0   0   0   0   0   0   0  57  24  39 439   9 237   1   4]\n",
            " [  0   0   0   0   0  15  11  76 477 378   2  92 331 543   1]\n",
            " [  0   0   0   0   0   0   0 119 211  20   2  26  87   1  10]\n",
            " [  0   0  59  58 253   3 115 477  80 798  17 157 212 192 275]]\n"
          ],
          "name": "stdout"
        }
      ]
    },
    {
      "cell_type": "code",
      "metadata": {
        "id": "EroZCDWv0OYN",
        "colab_type": "code",
        "colab": {
          "base_uri": "https://localhost:8080/",
          "height": 632
        },
        "outputId": "f5b1b287-858d-4079-e2f6-41c249c04cf8"
      },
      "source": [
        "from keras.models import Sequential\n",
        "from keras.models import load_model\n",
        "from keras.layers import LSTM, Dense\n",
        "from keras.layers import Embedding\n",
        "from keras.layers import SpatialDropout1D\n",
        "from keras.layers import Bidirectional, Dropout\n",
        "import tensorflow as tf\n",
        "from keras.callbacks import EarlyStopping\n",
        "model = Sequential()\n",
        "model.add(Embedding(MAX_NB_WORDS, EMBEDDING_DIM, input_length=X_train.shape[1]))\n",
        "model.add(SpatialDropout1D(0.4))\n",
        "model.add(Bidirectional(LSTM(100, dropout=0.4, recurrent_dropout=0.2, return_sequences=True)))\n",
        "model.add(Bidirectional(LSTM(100, dropout=0.4, recurrent_dropout=0.2)))\n",
        "model.add(Dense(50, activation='sigmoid'))\n",
        "model.add(Dropout(0.4))\n",
        "model.add(Dense(1, activation='sigmoid'))\n",
        "model.compile(loss='binary_crossentropy', optimizer='adam', metrics=['accuracy'])\n",
        "model.summary()\n",
        "epochs = 15\n",
        "batch_size = 64\n",
        "\n",
        "history = model.fit(X_train, Y, epochs=epochs, batch_size=batch_size,validation_split=0.1,callbacks=[EarlyStopping(monitor='val_loss', patience=3, min_delta=0.0001)])"
      ],
      "execution_count": 186,
      "outputs": [
        {
          "output_type": "stream",
          "text": [
            "Model: \"sequential_17\"\n",
            "_________________________________________________________________\n",
            "Layer (type)                 Output Shape              Param #   \n",
            "=================================================================\n",
            "embedding_17 (Embedding)     (None, 15, 50)            50000     \n",
            "_________________________________________________________________\n",
            "spatial_dropout1d_17 (Spatia (None, 15, 50)            0         \n",
            "_________________________________________________________________\n",
            "bidirectional_13 (Bidirectio (None, 15, 200)           120800    \n",
            "_________________________________________________________________\n",
            "bidirectional_14 (Bidirectio (None, 200)               240800    \n",
            "_________________________________________________________________\n",
            "dense_17 (Dense)             (None, 50)                10050     \n",
            "_________________________________________________________________\n",
            "dropout_4 (Dropout)          (None, 50)                0         \n",
            "_________________________________________________________________\n",
            "dense_18 (Dense)             (None, 1)                 51        \n",
            "=================================================================\n",
            "Total params: 421,701\n",
            "Trainable params: 421,701\n",
            "Non-trainable params: 0\n",
            "_________________________________________________________________\n",
            "Train on 7128 samples, validate on 792 samples\n",
            "Epoch 1/15\n",
            "7128/7128 [==============================] - 32s 5ms/step - loss: 0.3917 - acc: 0.8194 - val_loss: 0.2685 - val_acc: 0.8914\n",
            "Epoch 2/15\n",
            "7128/7128 [==============================] - 20s 3ms/step - loss: 0.2545 - acc: 0.8921 - val_loss: 0.2555 - val_acc: 0.8939\n",
            "Epoch 3/15\n",
            "7128/7128 [==============================] - 20s 3ms/step - loss: 0.2314 - acc: 0.9028 - val_loss: 0.2552 - val_acc: 0.8939\n",
            "Epoch 4/15\n",
            "7128/7128 [==============================] - 20s 3ms/step - loss: 0.2176 - acc: 0.9132 - val_loss: 0.2605 - val_acc: 0.8927\n",
            "Epoch 5/15\n",
            "7128/7128 [==============================] - 19s 3ms/step - loss: 0.2055 - acc: 0.9186 - val_loss: 0.2627 - val_acc: 0.8927\n",
            "Epoch 6/15\n",
            "7128/7128 [==============================] - 20s 3ms/step - loss: 0.1991 - acc: 0.9206 - val_loss: 0.2823 - val_acc: 0.8838\n"
          ],
          "name": "stdout"
        }
      ]
    },
    {
      "cell_type": "code",
      "metadata": {
        "id": "5Tfy1rsV21gJ",
        "colab_type": "code",
        "colab": {}
      },
      "source": [
        "predictions = (model.predict(X_test)>0.5).astype(np.int)"
      ],
      "execution_count": 0,
      "outputs": []
    },
    {
      "cell_type": "code",
      "metadata": {
        "id": "kaC7MGR0-Jdf",
        "colab_type": "code",
        "colab": {
          "base_uri": "https://localhost:8080/",
          "height": 102
        },
        "outputId": "8a4f959f-3ce7-4cff-c505-2418778e7284"
      },
      "source": [
        "predictions[0:5]"
      ],
      "execution_count": 195,
      "outputs": [
        {
          "output_type": "execute_result",
          "data": {
            "text/plain": [
              "array([[1],\n",
              "       [1],\n",
              "       [1],\n",
              "       [1],\n",
              "       [1]])"
            ]
          },
          "metadata": {
            "tags": []
          },
          "execution_count": 195
        }
      ]
    },
    {
      "cell_type": "code",
      "metadata": {
        "id": "CwhrKX4k3ZT8",
        "colab_type": "code",
        "colab": {}
      },
      "source": [
        "submissions_df = pd.DataFrame(test['id'])"
      ],
      "execution_count": 0,
      "outputs": []
    },
    {
      "cell_type": "code",
      "metadata": {
        "id": "Z9ihFdVM-ZVv",
        "colab_type": "code",
        "colab": {
          "base_uri": "https://localhost:8080/",
          "height": 51
        },
        "outputId": "c3272ae5-6d09-4d91-cd94-111a88d617df"
      },
      "source": [
        "print( submissions_df.shape)\n",
        "print(len(predictions))"
      ],
      "execution_count": 197,
      "outputs": [
        {
          "output_type": "stream",
          "text": [
            "(1953, 1)\n",
            "1953\n"
          ],
          "name": "stdout"
        }
      ]
    },
    {
      "cell_type": "code",
      "metadata": {
        "id": "rwNjpD334fkF",
        "colab_type": "code",
        "colab": {}
      },
      "source": [
        "submissions_df['label'] = predictions"
      ],
      "execution_count": 0,
      "outputs": []
    },
    {
      "cell_type": "code",
      "metadata": {
        "id": "lw-twHIa4mLu",
        "colab_type": "code",
        "colab": {
          "base_uri": "https://localhost:8080/",
          "height": 1000
        },
        "outputId": "8e95a391-44a3-4e08-f72e-83f0c2698b02"
      },
      "source": [
        "submissions_df[0:100]"
      ],
      "execution_count": 199,
      "outputs": [
        {
          "output_type": "execute_result",
          "data": {
            "text/html": [
              "<div>\n",
              "<style scoped>\n",
              "    .dataframe tbody tr th:only-of-type {\n",
              "        vertical-align: middle;\n",
              "    }\n",
              "\n",
              "    .dataframe tbody tr th {\n",
              "        vertical-align: top;\n",
              "    }\n",
              "\n",
              "    .dataframe thead th {\n",
              "        text-align: right;\n",
              "    }\n",
              "</style>\n",
              "<table border=\"1\" class=\"dataframe\">\n",
              "  <thead>\n",
              "    <tr style=\"text-align: right;\">\n",
              "      <th></th>\n",
              "      <th>id</th>\n",
              "      <th>label</th>\n",
              "    </tr>\n",
              "  </thead>\n",
              "  <tbody>\n",
              "    <tr>\n",
              "      <th>7920</th>\n",
              "      <td>7921</td>\n",
              "      <td>1</td>\n",
              "    </tr>\n",
              "    <tr>\n",
              "      <th>7921</th>\n",
              "      <td>7922</td>\n",
              "      <td>1</td>\n",
              "    </tr>\n",
              "    <tr>\n",
              "      <th>7922</th>\n",
              "      <td>7923</td>\n",
              "      <td>1</td>\n",
              "    </tr>\n",
              "    <tr>\n",
              "      <th>7923</th>\n",
              "      <td>7924</td>\n",
              "      <td>1</td>\n",
              "    </tr>\n",
              "    <tr>\n",
              "      <th>7924</th>\n",
              "      <td>7925</td>\n",
              "      <td>1</td>\n",
              "    </tr>\n",
              "    <tr>\n",
              "      <th>7925</th>\n",
              "      <td>7926</td>\n",
              "      <td>0</td>\n",
              "    </tr>\n",
              "    <tr>\n",
              "      <th>7926</th>\n",
              "      <td>7927</td>\n",
              "      <td>1</td>\n",
              "    </tr>\n",
              "    <tr>\n",
              "      <th>7927</th>\n",
              "      <td>7928</td>\n",
              "      <td>0</td>\n",
              "    </tr>\n",
              "    <tr>\n",
              "      <th>7928</th>\n",
              "      <td>7929</td>\n",
              "      <td>1</td>\n",
              "    </tr>\n",
              "    <tr>\n",
              "      <th>7929</th>\n",
              "      <td>7930</td>\n",
              "      <td>0</td>\n",
              "    </tr>\n",
              "    <tr>\n",
              "      <th>7930</th>\n",
              "      <td>7931</td>\n",
              "      <td>0</td>\n",
              "    </tr>\n",
              "    <tr>\n",
              "      <th>7931</th>\n",
              "      <td>7932</td>\n",
              "      <td>0</td>\n",
              "    </tr>\n",
              "    <tr>\n",
              "      <th>7932</th>\n",
              "      <td>7933</td>\n",
              "      <td>0</td>\n",
              "    </tr>\n",
              "    <tr>\n",
              "      <th>7933</th>\n",
              "      <td>7934</td>\n",
              "      <td>0</td>\n",
              "    </tr>\n",
              "    <tr>\n",
              "      <th>7934</th>\n",
              "      <td>7935</td>\n",
              "      <td>0</td>\n",
              "    </tr>\n",
              "    <tr>\n",
              "      <th>7935</th>\n",
              "      <td>7936</td>\n",
              "      <td>0</td>\n",
              "    </tr>\n",
              "    <tr>\n",
              "      <th>7936</th>\n",
              "      <td>7937</td>\n",
              "      <td>0</td>\n",
              "    </tr>\n",
              "    <tr>\n",
              "      <th>7937</th>\n",
              "      <td>7938</td>\n",
              "      <td>1</td>\n",
              "    </tr>\n",
              "    <tr>\n",
              "      <th>7938</th>\n",
              "      <td>7939</td>\n",
              "      <td>1</td>\n",
              "    </tr>\n",
              "    <tr>\n",
              "      <th>7939</th>\n",
              "      <td>7940</td>\n",
              "      <td>0</td>\n",
              "    </tr>\n",
              "    <tr>\n",
              "      <th>7940</th>\n",
              "      <td>7941</td>\n",
              "      <td>0</td>\n",
              "    </tr>\n",
              "    <tr>\n",
              "      <th>7941</th>\n",
              "      <td>7942</td>\n",
              "      <td>0</td>\n",
              "    </tr>\n",
              "    <tr>\n",
              "      <th>7942</th>\n",
              "      <td>7943</td>\n",
              "      <td>0</td>\n",
              "    </tr>\n",
              "    <tr>\n",
              "      <th>7943</th>\n",
              "      <td>7944</td>\n",
              "      <td>0</td>\n",
              "    </tr>\n",
              "    <tr>\n",
              "      <th>7944</th>\n",
              "      <td>7945</td>\n",
              "      <td>1</td>\n",
              "    </tr>\n",
              "    <tr>\n",
              "      <th>7945</th>\n",
              "      <td>7946</td>\n",
              "      <td>0</td>\n",
              "    </tr>\n",
              "    <tr>\n",
              "      <th>7946</th>\n",
              "      <td>7947</td>\n",
              "      <td>0</td>\n",
              "    </tr>\n",
              "    <tr>\n",
              "      <th>7947</th>\n",
              "      <td>7948</td>\n",
              "      <td>0</td>\n",
              "    </tr>\n",
              "    <tr>\n",
              "      <th>7948</th>\n",
              "      <td>7949</td>\n",
              "      <td>1</td>\n",
              "    </tr>\n",
              "    <tr>\n",
              "      <th>7949</th>\n",
              "      <td>7950</td>\n",
              "      <td>0</td>\n",
              "    </tr>\n",
              "    <tr>\n",
              "      <th>...</th>\n",
              "      <td>...</td>\n",
              "      <td>...</td>\n",
              "    </tr>\n",
              "    <tr>\n",
              "      <th>7990</th>\n",
              "      <td>7991</td>\n",
              "      <td>0</td>\n",
              "    </tr>\n",
              "    <tr>\n",
              "      <th>7991</th>\n",
              "      <td>7992</td>\n",
              "      <td>0</td>\n",
              "    </tr>\n",
              "    <tr>\n",
              "      <th>7992</th>\n",
              "      <td>7993</td>\n",
              "      <td>1</td>\n",
              "    </tr>\n",
              "    <tr>\n",
              "      <th>7993</th>\n",
              "      <td>7994</td>\n",
              "      <td>0</td>\n",
              "    </tr>\n",
              "    <tr>\n",
              "      <th>7994</th>\n",
              "      <td>7995</td>\n",
              "      <td>1</td>\n",
              "    </tr>\n",
              "    <tr>\n",
              "      <th>7995</th>\n",
              "      <td>7996</td>\n",
              "      <td>0</td>\n",
              "    </tr>\n",
              "    <tr>\n",
              "      <th>7996</th>\n",
              "      <td>7997</td>\n",
              "      <td>0</td>\n",
              "    </tr>\n",
              "    <tr>\n",
              "      <th>7997</th>\n",
              "      <td>7998</td>\n",
              "      <td>0</td>\n",
              "    </tr>\n",
              "    <tr>\n",
              "      <th>7998</th>\n",
              "      <td>7999</td>\n",
              "      <td>0</td>\n",
              "    </tr>\n",
              "    <tr>\n",
              "      <th>7999</th>\n",
              "      <td>8000</td>\n",
              "      <td>1</td>\n",
              "    </tr>\n",
              "    <tr>\n",
              "      <th>8000</th>\n",
              "      <td>8001</td>\n",
              "      <td>0</td>\n",
              "    </tr>\n",
              "    <tr>\n",
              "      <th>8001</th>\n",
              "      <td>8002</td>\n",
              "      <td>1</td>\n",
              "    </tr>\n",
              "    <tr>\n",
              "      <th>8002</th>\n",
              "      <td>8003</td>\n",
              "      <td>0</td>\n",
              "    </tr>\n",
              "    <tr>\n",
              "      <th>8003</th>\n",
              "      <td>8004</td>\n",
              "      <td>1</td>\n",
              "    </tr>\n",
              "    <tr>\n",
              "      <th>8004</th>\n",
              "      <td>8005</td>\n",
              "      <td>0</td>\n",
              "    </tr>\n",
              "    <tr>\n",
              "      <th>8005</th>\n",
              "      <td>8006</td>\n",
              "      <td>1</td>\n",
              "    </tr>\n",
              "    <tr>\n",
              "      <th>8006</th>\n",
              "      <td>8007</td>\n",
              "      <td>0</td>\n",
              "    </tr>\n",
              "    <tr>\n",
              "      <th>8007</th>\n",
              "      <td>8008</td>\n",
              "      <td>0</td>\n",
              "    </tr>\n",
              "    <tr>\n",
              "      <th>8008</th>\n",
              "      <td>8009</td>\n",
              "      <td>0</td>\n",
              "    </tr>\n",
              "    <tr>\n",
              "      <th>8009</th>\n",
              "      <td>8010</td>\n",
              "      <td>0</td>\n",
              "    </tr>\n",
              "    <tr>\n",
              "      <th>8010</th>\n",
              "      <td>8011</td>\n",
              "      <td>0</td>\n",
              "    </tr>\n",
              "    <tr>\n",
              "      <th>8011</th>\n",
              "      <td>8012</td>\n",
              "      <td>1</td>\n",
              "    </tr>\n",
              "    <tr>\n",
              "      <th>8012</th>\n",
              "      <td>8013</td>\n",
              "      <td>0</td>\n",
              "    </tr>\n",
              "    <tr>\n",
              "      <th>8013</th>\n",
              "      <td>8014</td>\n",
              "      <td>0</td>\n",
              "    </tr>\n",
              "    <tr>\n",
              "      <th>8014</th>\n",
              "      <td>8015</td>\n",
              "      <td>1</td>\n",
              "    </tr>\n",
              "    <tr>\n",
              "      <th>8015</th>\n",
              "      <td>8016</td>\n",
              "      <td>1</td>\n",
              "    </tr>\n",
              "    <tr>\n",
              "      <th>8016</th>\n",
              "      <td>8017</td>\n",
              "      <td>1</td>\n",
              "    </tr>\n",
              "    <tr>\n",
              "      <th>8017</th>\n",
              "      <td>8018</td>\n",
              "      <td>0</td>\n",
              "    </tr>\n",
              "    <tr>\n",
              "      <th>8018</th>\n",
              "      <td>8019</td>\n",
              "      <td>1</td>\n",
              "    </tr>\n",
              "    <tr>\n",
              "      <th>8019</th>\n",
              "      <td>8020</td>\n",
              "      <td>1</td>\n",
              "    </tr>\n",
              "  </tbody>\n",
              "</table>\n",
              "<p>100 rows × 2 columns</p>\n",
              "</div>"
            ],
            "text/plain": [
              "        id  label\n",
              "7920  7921      1\n",
              "7921  7922      1\n",
              "7922  7923      1\n",
              "7923  7924      1\n",
              "7924  7925      1\n",
              "7925  7926      0\n",
              "7926  7927      1\n",
              "7927  7928      0\n",
              "7928  7929      1\n",
              "7929  7930      0\n",
              "7930  7931      0\n",
              "7931  7932      0\n",
              "7932  7933      0\n",
              "7933  7934      0\n",
              "7934  7935      0\n",
              "7935  7936      0\n",
              "7936  7937      0\n",
              "7937  7938      1\n",
              "7938  7939      1\n",
              "7939  7940      0\n",
              "7940  7941      0\n",
              "7941  7942      0\n",
              "7942  7943      0\n",
              "7943  7944      0\n",
              "7944  7945      1\n",
              "7945  7946      0\n",
              "7946  7947      0\n",
              "7947  7948      0\n",
              "7948  7949      1\n",
              "7949  7950      0\n",
              "...    ...    ...\n",
              "7990  7991      0\n",
              "7991  7992      0\n",
              "7992  7993      1\n",
              "7993  7994      0\n",
              "7994  7995      1\n",
              "7995  7996      0\n",
              "7996  7997      0\n",
              "7997  7998      0\n",
              "7998  7999      0\n",
              "7999  8000      1\n",
              "8000  8001      0\n",
              "8001  8002      1\n",
              "8002  8003      0\n",
              "8003  8004      1\n",
              "8004  8005      0\n",
              "8005  8006      1\n",
              "8006  8007      0\n",
              "8007  8008      0\n",
              "8008  8009      0\n",
              "8009  8010      0\n",
              "8010  8011      0\n",
              "8011  8012      1\n",
              "8012  8013      0\n",
              "8013  8014      0\n",
              "8014  8015      1\n",
              "8015  8016      1\n",
              "8016  8017      1\n",
              "8017  8018      0\n",
              "8018  8019      1\n",
              "8019  8020      1\n",
              "\n",
              "[100 rows x 2 columns]"
            ]
          },
          "metadata": {
            "tags": []
          },
          "execution_count": 199
        }
      ]
    },
    {
      "cell_type": "code",
      "metadata": {
        "id": "q-KZfw874pHZ",
        "colab_type": "code",
        "colab": {}
      },
      "source": [
        "submissions_df.to_csv('sub_lreg_bow.csv', index=False) # writing data to a CSV file"
      ],
      "execution_count": 0,
      "outputs": []
    },
    {
      "cell_type": "code",
      "metadata": {
        "id": "MdopY5664z9_",
        "colab_type": "code",
        "colab": {}
      },
      "source": [
        ""
      ],
      "execution_count": 0,
      "outputs": []
    }
  ]
}